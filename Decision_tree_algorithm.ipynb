{
 "cells": [
  {
   "cell_type": "code",
   "execution_count": null,
   "id": "9e786ac3",
   "metadata": {},
   "outputs": [],
   "source": []
  },
  {
   "cell_type": "code",
   "execution_count": 1,
   "id": "3e7bfd25",
   "metadata": {},
   "outputs": [],
   "source": [
    "def dec_tree_algor(data,dic2,countt=0,depth=None): #MAIN Algo \n",
    "  if( (check_purity(data))or countt==depth ):\n",
    "    classify=Clsfy_da(data)\n",
    "    return(classify)\n",
    "  #recursive part\n",
    "  else:\n",
    "    countt+=1\n",
    "    col_vis_split=splitfun(data)\n",
    "    split_col,split_val=best_col_value(data,col_vis_split)\n",
    "\n",
    "    data_B,data_A=split_data(data,split_col,split_val)\n",
    "    data_B=np.delete(data_B, split_col, 1)\n",
    "    data_A=np.delete(data_A, split_col, 1)\n",
    "    \n",
    "    #sub-tree\n",
    "    quest=\"{} <= {}\".format(dic2[split_col],split_val)\n",
    "    sub_tree={quest:[]}\n",
    "    dic2.remove(dic2[split_col])\n",
    "    yes_a=dec_tree_algor(data_B,dic2,countt,depth)\n",
    "    no_a=dec_tree_algor(data_A,dic2,countt,depth)\n",
    "    \n",
    "    if yes_a==no_a:\n",
    "      sub_tree=yes_a\n",
    "    else:\n",
    "      sub_tree[quest].append(yes_a)\n",
    "      sub_tree[quest].append(no_a)\n",
    "  return(sub_tree)"
   ]
  },
  {
   "cell_type": "code",
   "execution_count": 2,
   "id": "5bc1c3df",
   "metadata": {},
   "outputs": [],
   "source": [
    "# testing \n",
    "def classify_example(example, tree):\n",
    "    question = list(tree.keys())[0]\n",
    "    feature_name, comparison_operator, value = question.split()\n",
    "\n",
    "    # ask question\n",
    "    if example[dic3[feature_name]] <= float(value):\n",
    "        answer = tree[question][0]\n",
    "    else:\n",
    "        answer = tree[question][1]\n",
    "\n",
    "    # base case\n",
    "    if not isinstance(answer, dict):\n",
    "        return answer\n",
    "    \n",
    "    # recursive part\n",
    "    else:\n",
    "        residual_tree = answer\n",
    "        return classify_example(example, residual_tree)"
   ]
  },
  {
   "cell_type": "markdown",
   "id": "42e9cdd4",
   "metadata": {},
   "source": [
    "### For testing accuracy of testing data set"
   ]
  },
  {
   "cell_type": "code",
   "execution_count": null,
   "id": "fd75cb83",
   "metadata": {},
   "outputs": [],
   "source": [
    "#accuracyof function \n",
    "count=0\n",
    "for i,j in zip(new,test[:,-1]):\n",
    "  if i==j:\n",
    "    count=count+1\n",
    "print(f\"the accuracy is {(count/len(test[:,-1]))*100}\")"
   ]
  }
 ],
 "metadata": {
  "kernelspec": {
   "display_name": "Python 3 (ipykernel)",
   "language": "python",
   "name": "python3"
  },
  "language_info": {
   "codemirror_mode": {
    "name": "ipython",
    "version": 3
   },
   "file_extension": ".py",
   "mimetype": "text/x-python",
   "name": "python",
   "nbconvert_exporter": "python",
   "pygments_lexer": "ipython3",
   "version": "3.9.12"
  }
 },
 "nbformat": 4,
 "nbformat_minor": 5
}
