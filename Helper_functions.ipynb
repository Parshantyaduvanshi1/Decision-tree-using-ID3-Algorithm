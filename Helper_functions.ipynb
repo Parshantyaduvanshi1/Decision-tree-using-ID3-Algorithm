{
 "cells": [
  {
   "cell_type": "code",
   "execution_count": 1,
   "id": "47882ed7",
   "metadata": {},
   "outputs": [],
   "source": [
    "def check_purity(data):\n",
    "  lab_col=data[:,-1]\n",
    "  uniq=np.unique(lab_col)# it check the purity of data which means that column has only one label or not\n",
    "  if len(uniq)==1:\n",
    "    return(True)\n",
    "  else:\n",
    "    return(False)\n",
    "    "
   ]
  },
  {
   "cell_type": "code",
   "execution_count": 2,
   "id": "856a4968",
   "metadata": {},
   "outputs": [],
   "source": [
    "def Clsfy_da(data):\n",
    "  lab_col=data[:,-1]\n",
    "  uniq_cls,count_u_cls=np.unique(lab_col,return_counts=True)\n",
    "  index=count_u_cls.argmax() # classify data \n",
    "  clsfy=dic1[uniq_cls[index]]\n",
    "  return(clsfy)"
   ]
  },
  {
   "cell_type": "code",
   "execution_count": 3,
   "id": "fa40d554",
   "metadata": {},
   "outputs": [],
   "source": [
    "def splitfun(data):\n",
    "  split={}\n",
    "  n_row,n_col=np.array(data).shape\n",
    "  for col_ind in range(n_col-1):\n",
    "    split[col_ind]=[]  #it splits a number based on the maximun value and minimun value of a particular column \n",
    "    val=data[:,col_ind]\n",
    "    mx=max(val)\n",
    "    mn=min(val)\n",
    "    lp=np.linspace(mn,mx,50) \n",
    "    for ind in lp:\n",
    "      split[col_ind].append(ind)    \n",
    "  return(split)"
   ]
  },
  {
   "cell_type": "code",
   "execution_count": 4,
   "id": "bcbe4d7e",
   "metadata": {},
   "outputs": [],
   "source": [
    "def split_data(data,split_col,split_val):\n",
    "  split_colm_val=data[:,split_col]\n",
    "  data_B=data[split_colm_val<=split_val] #spliting the values on the bases of beat value.\n",
    "\n",
    "  data_A=data[split_colm_val>split_val]\n",
    "  return(data_B,data_A)\n",
    "\n"
   ]
  },
  {
   "cell_type": "code",
   "execution_count": 5,
   "id": "09887a53",
   "metadata": {},
   "outputs": [],
   "source": [
    "#first we are going to calculate entropy of columns so we define the function of entropy \n",
    "def ent(col):\n",
    "  lab_col=col[:,-1]\n",
    "  _,count=np.unique(lab_col,return_counts=True)\n",
    "  pro=count/count.sum()\n",
    "  return(sum(-(pro*np.log2(pro))))"
   ]
  },
  {
   "cell_type": "code",
   "execution_count": 6,
   "id": "9515e94b",
   "metadata": {},
   "outputs": [],
   "source": [
    "#To calculate entropy of columns. so we define the function of entropy \n",
    "def ent(col):\n",
    "  lab_col=col[:,-1]\n",
    "  _,count=np.unique(lab_col,return_counts=True)\n",
    "  pro=count/count.sum()\n",
    "  return(sum(-(pro*np.log2(pro))))"
   ]
  },
  {
   "cell_type": "code",
   "execution_count": 7,
   "id": "21f3c12c",
   "metadata": {},
   "outputs": [],
   "source": [
    "def infmation_gain(data,data_a,data_b):\n",
    "  comp_ent=ent(data)\n",
    "  data_1=len(data_a)\n",
    "  data_2=len(data_b)                 #this is function of information gain\n",
    "  data_t=sum([data_1,data_2])\n",
    "\n",
    "  sub_div_ent=((data_1/data_t)*ent(data_a)+(data_2/data_t)*ent(data_b))\n",
    "  gain=comp_ent-sub_div_ent\n",
    "  return(gain)"
   ]
  },
  {
   "cell_type": "code",
   "execution_count": 8,
   "id": "b8b8793e",
   "metadata": {},
   "outputs": [],
   "source": [
    "def best_col_value(data,col_vis_split):\n",
    "  en_entropy=0\n",
    "  for col_ind in col_vis_split:\n",
    "    for val in col_vis_split[col_ind]:\n",
    "      data_B,data_A=split_data(data,split_col=col_ind,split_val=val)#it select the best col and value on the bases of information gain\n",
    "      inform_gain=infmation_gain(data,data_A,data_B)\n",
    "      if inform_gain>en_entropy:\n",
    "        en_entropy=inform_gain\n",
    "        best_col=col_ind\n",
    "        best_val=val\n",
    "  return(best_col,best_val)\n",
    "\n",
    "\n"
   ]
  },
  {
   "cell_type": "code",
   "execution_count": null,
   "id": "f3e91275",
   "metadata": {},
   "outputs": [],
   "source": []
  }
 ],
 "metadata": {
  "kernelspec": {
   "display_name": "Python 3 (ipykernel)",
   "language": "python",
   "name": "python3"
  },
  "language_info": {
   "codemirror_mode": {
    "name": "ipython",
    "version": 3
   },
   "file_extension": ".py",
   "mimetype": "text/x-python",
   "name": "python",
   "nbconvert_exporter": "python",
   "pygments_lexer": "ipython3",
   "version": "3.9.12"
  }
 },
 "nbformat": 4,
 "nbformat_minor": 5
}
